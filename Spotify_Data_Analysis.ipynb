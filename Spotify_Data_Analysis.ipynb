{
 "cells": [
  {
   "attachments": {},
   "cell_type": "markdown",
   "metadata": {},
   "source": [
    "# Spotify Data Analysis"
   ]
  },
  {
   "attachments": {},
   "cell_type": "markdown",
   "metadata": {},
   "source": [
    "In the previous notebook I collected and stored different datasets and features of my spotify listening data. In this notebook we will be analyzing that data to gleam insights"
   ]
  },
  {
   "attachments": {},
   "cell_type": "markdown",
   "metadata": {},
   "source": [
    "## Initialization"
   ]
  },
  {
   "attachments": {},
   "cell_type": "markdown",
   "metadata": {},
   "source": [
    "### Connect to Drive"
   ]
  },
  {
   "cell_type": "code",
   "execution_count": 1,
   "metadata": {},
   "outputs": [
    {
     "name": "stdout",
     "output_type": "stream",
     "text": [
      "Not Running on Colab\n",
      "Base Folder is C:\\Users\\Abdul Rauf Maroof\\OneDrive\\Documents\\MSBA\n",
      "Data Folder is C:\\Users\\Abdul Rauf Maroof\\OneDrive\\Documents\\MSBA\\data_sets\n",
      "Archive Folder is C:\\Users\\Abdul Rauf Maroof\\OneDrive\\Documents\\MSBA\\archive\n",
      "Output Folder is C:\\Users\\Abdul Rauf Maroof\\OneDrive\\Documents\\MSBA\\notebooks\\Spotify_Project\\output\n",
      "Cleaned Data Folder is C:\\Users\\Abdul Rauf Maroof\\OneDrive\\Documents\\MSBA\\notebooks\\Spotify_Project\\cleaned_data\n",
      "The path to the custom functions is C:/Users/Abdul Rauf Maroof/OneDrive/Documents/MSBA/notebooks/Spotify_Project/custom_functions\n",
      "The working directory is c:\\Users\\Abdul Rauf Maroof\\OneDrive\\Documents\\MSBA\\notebooks\\Spotify_Project\n"
     ]
    }
   ],
   "source": [
    "# Use for normal projects\n",
    "# In colab since I use that for other subjects as well I have partitioned it accordingly \n",
    "# But for my local drive I like to keep it simple\n",
    "import os\n",
    "import sys\n",
    "from pathlib import Path\n",
    "if 'google.colab' in str(get_ipython()):\n",
    "  print('Running on Colab')\n",
    "  from google.colab import drive\n",
    "  drive.mount('/content/drive') \n",
    "  %pip install swifter -qq\n",
    "  %pip install spotipy --upgrade -qq\n",
    "  base_folder = Path('/content/drive/MyDrive/colab_notebooks/')\n",
    "  subject = 'aml'\n",
    "  data = base_folder/subject/'data/'\n",
    "  archive = base_folder/subject/'archive/'\n",
    "  output = base_folder/subject/'output'\n",
    "  if not Path(base_folder/subject/'output').exists():\n",
    "    os.makedirs(output,exist_ok=True)\n",
    "  print(f'Base Folder is {base_folder}')\n",
    "  print(f'Data Folder is {data}')\n",
    "  print(f'Archive Folder is {archive}')\n",
    "  print(f'Output Folder is {output}')\n",
    "else:\n",
    "  print('Not Running on Colab')\n",
    "  # Add the path to the custom-functions directory in the local file system to sys.path\n",
    "  sys.path.append('C:/Users/Abdul Rauf Maroof/OneDrive/Documents/MSBA/notebooks/Spotify_Project/custom_functions')\n",
    "  base_folder = Path('C:/Users/Abdul Rauf Maroof/OneDrive/Documents/MSBA')\n",
    "  data = base_folder/'data_sets/'\n",
    "  archive = base_folder/'archive/'\n",
    "  output = base_folder/'notebooks/Spotify_Project'/'output'\n",
    "  cleaned_data = base_folder/'notebooks/Spotify_Project'/'cleaned_data'\n",
    "  if not (base_folder/'notebooks/Spotify_Project'/'output').exists():\n",
    "    os.makedirs(output,exist_ok=True)\n",
    "  print(f'Base Folder is {base_folder}')\n",
    "  print(f'Data Folder is {data}')\n",
    "  print(f'Archive Folder is {archive}')\n",
    "  print(f'Output Folder is {output}')\n",
    "  print(f'Cleaned Data Folder is {cleaned_data}')\n",
    "  print(f'The path to the custom functions is {sys.path[-1]}')\n",
    "  print(f'The working directory is {os.getcwd()}')\n"
   ]
  },
  {
   "attachments": {},
   "cell_type": "markdown",
   "metadata": {},
   "source": [
    "### Import Libraries"
   ]
  },
  {
   "cell_type": "code",
   "execution_count": 2,
   "metadata": {},
   "outputs": [],
   "source": [
    "import pandas as pd # data processing, CSV file I/O (e.g. pd.read_csv)\n",
    "import numpy as np # for mathemtical operations and other powerful calculations\n",
    "import matplotlib.pyplot as plt # for plotting graphs\n",
    "import seaborn as sns # for plotting graphs\n",
    "import glob\n",
    "\n",
    "# For data visualization\n",
    "import plotly.express as px\n",
    "import plotly.graph_objects as go\n",
    "from plotly.subplots import make_subplots\n",
    "import plotly.figure_factory as ff\n",
    "import plotly.io as pio\n",
    "pio.templates.default = \"plotly_dark\""
   ]
  },
  {
   "cell_type": "code",
   "execution_count": 35,
   "metadata": {},
   "outputs": [],
   "source": [
    "# We'll try to set the theme closely to the one used in the Spotify app\n",
    "# https://seaborn.pydata.org/tutorial/aesthetics.html\n",
    "sns.set_context('paper')\n",
    "sns.set_style('darkgrid')\n",
    "\n",
    "# Set style to white\n",
    "sns.set_style(\"white\")\n",
    "\n",
    "# Set palette to match Spotify colors\n",
    "sns.set_palette(['#1DB954', '#191414'])"
   ]
  },
  {
   "attachments": {},
   "cell_type": "markdown",
   "metadata": {},
   "source": [
    "### Importing the data cleaned from the last notebook"
   ]
  },
  {
   "cell_type": "code",
   "execution_count": 9,
   "metadata": {},
   "outputs": [],
   "source": [
    "# Use glob to get the list of files\n",
    "files = glob.glob(str(cleaned_data/'*.csv')); files\n",
    "\n",
    "# Read the files into a list of dataframes\n",
    "for file in files:\n",
    "    globals()[file.split('\\\\')[-1].split('.')[0]] = pd.read_csv(file, index_col=0).reset_index(drop=True)"
   ]
  },
  {
   "attachments": {},
   "cell_type": "markdown",
   "metadata": {},
   "source": [
    "## Creating connections between tables"
   ]
  },
  {
   "cell_type": "code",
   "execution_count": 41,
   "metadata": {},
   "outputs": [
    {
     "name": "stdout",
     "output_type": "stream",
     "text": [
      "audio_features (5586, 16)\n",
      "genres (5586, 8)\n",
      "genres_expanded (18153, 9)\n",
      "library_artists (34, 2)\n",
      "library_shows (55, 3)\n",
      "library_tracks (579, 4)\n",
      "playlist_contents_data (1227, 6)\n",
      "playlist_core_data (20, 3)\n",
      "podcasts (355, 3)\n",
      "streaming_data (36121, 10)\n",
      "tracks (5586, 10)\n"
     ]
    }
   ],
   "source": [
    "# Check the dataframes\n",
    "list_of_dataframes = [file.split('\\\\')[-1].split('.')[0] for file in files]\n",
    "\n",
    "for i in list_of_dataframes:\n",
    "    print(i, globals()[i].shape)"
   ]
  },
  {
   "cell_type": "code",
   "execution_count": null,
   "metadata": {},
   "outputs": [],
   "source": []
  },
  {
   "attachments": {},
   "cell_type": "markdown",
   "metadata": {},
   "source": [
    "## Visualizations"
   ]
  },
  {
   "cell_type": "code",
   "execution_count": 36,
   "metadata": {},
   "outputs": [
    {
     "data": {
      "image/png": "[encoded data removed]",
      "text/plain": [
       "<Figure size 640x480 with 1 Axes>"
      ]
     },
     "metadata": {},
     "output_type": "display_data"
    }
   ],
   "source": [
    "# Streaming data shows that I have listened to 2410 artists in the last year\n",
    "sns.barplot(x=streaming_data['artistName'].value_counts().index[:10], y=streaming_data['artistName'].value_counts()[:10])\n",
    "plt.xticks(rotation=90)\n",
    "plt.ylabel('Number of times listened')\n",
    "plt.title('Top 10 Artists I have listened to in the last year')\n",
    "plt.show()"
   ]
  }
 ],
 "metadata": {
  "kernelspec": {
   "display_name": "base",
   "language": "python",
   "name": "python3"
  },
  "language_info": {
   "codemirror_mode": {
    "name": "ipython",
    "version": 3
   },
   "file_extension": ".py",
   "mimetype": "text/x-python",
   "name": "python",
   "nbconvert_exporter": "python",
   "pygments_lexer": "ipython3",
   "version": "3.9.13"
  },
  "orig_nbformat": 4
 },
 "nbformat": 4,
 "nbformat_minor": 2
}
